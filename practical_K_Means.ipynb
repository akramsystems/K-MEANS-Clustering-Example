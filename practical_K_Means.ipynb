{
 "cells": [
  {
   "cell_type": "code",
   "execution_count": 1,
   "metadata": {
    "collapsed": true
   },
   "outputs": [],
   "source": [
    "import matplotlib.pyplot as plt\n",
    "from matplotlib import style\n",
    "style.use('ggplot')\n",
    "import numpy as np"
   ]
  },
  {
   "cell_type": "code",
   "execution_count": 2,
   "metadata": {},
   "outputs": [
    {
     "data": {
      "image/png": "[encoded data removed]",
      "text/plain": [
       "<matplotlib.figure.Figure at 0x29c5820ad68>"
      ]
     },
     "metadata": {},
     "output_type": "display_data"
    }
   ],
   "source": [
    "X = np.array([[1,2],\n",
    "              [1.5,1.8],\n",
    "              [5,8],\n",
    "              [8,8],\n",
    "              [1,0.6],\n",
    "              [9,11]])\n",
    "\n",
    "plt.scatter(X[:,0],X[:,1], s = 50)\n",
    "plt.show()\n",
    "\n",
    "colors = 10*['g','r','c','b','k']"
   ]
  },
  {
   "cell_type": "code",
   "execution_count": 12,
   "metadata": {},
   "outputs": [],
   "source": [
    "\n",
    "\n",
    "#define  our class\n",
    "\n",
    "class K_Means:\n",
    "    def __init__(self,k=2,tol=0.001,max_iter=300):\n",
    "        self.k = k  #Choose value for K\n",
    "        self.tol = tol\n",
    "        self.max_iter = max_iter\n",
    "        \n",
    "    def fit(self,data):\n",
    "        self.centroids = {} #dictionary to hold our cenroids\n",
    "        \n",
    "        for i in range(self.k):          #Randomly select K featuresets to start as your centroids\n",
    "            self.centroids[i] = data[i]  #randomly assign 2 centroids to be our first two data points\n",
    "            \n",
    "        for i in range(self.max_iter):\n",
    "            self.classifications = {}  #dictionary to hold classifications\n",
    "            \n",
    "            for i in range(self.k):  #creates two groups of classifications i.e. classification[0] and classification [1]\n",
    "                self.classifications[i] = []\n",
    "            \n",
    "            #calculates distances of the features to the current centroids and classify them\n",
    "                #distance: featureset value - centroid value for all our centroids\n",
    "                #classificaion: we classify our featureset as the same classification as the centroid \n",
    "                #closest to it by taking the minimum distance from it and the centroids\n",
    "                #norm gets distance between two vectors\n",
    "                #self.classifcation[classification]: for that classification add the current featureset\n",
    "                # to a list so we end up with two list of all featureset(points) that belong to one\n",
    "                # classification and another list of points that belong to the other classification\n",
    "            for featureset in data:\n",
    "                distances = [np.linalg.norm(featureset-self.centroids[centroid]) for centroid in self.centroids]\n",
    "                classification = distances.index(min(distances)) \n",
    "                self.classifications[classification].append(featureset)\n",
    "            \n",
    "            #store the all centroids to compare them later\n",
    "            prev_centroids = dict(self.centroids)\n",
    "            \n",
    "            for classification in self.classifications:\n",
    "                self.centroids[classification] = np.average(self.classifications[classification], axis=0)\n",
    "                #pass\n",
    "                #gets a new set of cenroids by using he average points of each list of points for\n",
    "                #each featureset\n",
    "                self.centroids[classification] = np.average(self.classifications[classification], axis=0)\n",
    "            \n",
    "            \n",
    "            optimized = True #assume optimized\n",
    "            \n",
    "            for c in self.centroids: \n",
    "                original_centroid = prev_centroids[c]\n",
    "                current_centroid = self.centroids[c]\n",
    "                #now verify our centroid is accurate by comparing the prior and previous centroids to \n",
    "                # our tolerance to make sure it is less than our tolerance\n",
    "                # we are using the relative error \n",
    "                if np.sum((current_centroid - original_centroid)/original_centroid * 100.0) > self.tol:\n",
    "                    optimized = False\n",
    "            #exit once you have obtained centroids within our tolerance\n",
    "            if optimized:\n",
    "                break\n",
    "        \n",
    "    \n",
    "    def predict(self,data):\n",
    "        #gets the distance between our data and the centroids to see which one is close\n",
    "        #and classifies them to whichever centroid is the closest\n",
    "        distances = [np.linalg.norm(data-self.centroids[centroid]) for centroid in self.centroids]\n",
    "        classification = distances.index(min(distances)) \n",
    "        return classification\n",
    "    "
   ]
  },
  {
   "cell_type": "code",
   "execution_count": 13,
   "metadata": {},
   "outputs": [],
   "source": [
    "clf = K_Means()"
   ]
  },
  {
   "cell_type": "code",
   "execution_count": 14,
   "metadata": {},
   "outputs": [],
   "source": [
    "clf.fit(X)  #train our model"
   ]
  },
  {
   "cell_type": "code",
   "execution_count": 27,
   "metadata": {},
   "outputs": [],
   "source": [
    "#plot our centroids\n",
    "for centroid in clf.centroids:\n",
    "    plt.scatter(clf.centroids[centroid][0], clf.centroids[centroid][1], \n",
    "                marker=\"o\",color=\"k\", s=60,linewidths=5)\n",
    "    \n",
    "# plot for classification in clf.classifications:    \n",
    "for classification in clf.classifications:\n",
    "    color=colors[classification]\n",
    "    for featureset in clf.classifications[classification]:\n",
    "        plt.scatter(featureset[0],featureset[1], marker='x', color=color, s=150,linewidths = 5)\n",
    "\n",
    "unknowns = np.array([[1,3],\n",
    "                     [5,5],\n",
    "                     [6,6],\n",
    "                     [7,7],\n",
    "                     [1,1]])\n",
    "#predicts unknown data points based on how close they are to our centroids from k-means analysis\n",
    "for unknown in unknowns:\n",
    "    classification = clf.predict(unknown)\n",
    "    plt.scatter(unknown[0],unknown[1],marker=\"*\",color =colors[classification],s = 60, linewidths=1)"
   ]
  },
  {
   "cell_type": "code",
   "execution_count": 28,
   "metadata": {},
   "outputs": [
    {
     "data": {
      "image/png": "[encoded data removed]",
      "text/plain": [
       "<matplotlib.figure.Figure at 0x29c58338be0>"
      ]
     },
     "metadata": {},
     "output_type": "display_data"
    }
   ],
   "source": [
    "plt.show()"
   ]
  },
  {
   "cell_type": "code",
   "execution_count": null,
   "metadata": {},
   "outputs": [],
   "source": []
  },
  {
   "cell_type": "code",
   "execution_count": 29,
   "metadata": {},
   "outputs": [],
   "source": []
  },
  {
   "cell_type": "code",
   "execution_count": null,
   "metadata": {
    "collapsed": true
   },
   "outputs": [],
   "source": []
  }
 ],
 "metadata": {
  "kernelspec": {
   "display_name": "Python 3",
   "language": "python",
   "name": "python3"
  },
  "language_info": {
   "codemirror_mode": {
    "name": "ipython",
    "version": 3
   },
   "file_extension": ".py",
   "mimetype": "text/x-python",
   "name": "python",
   "nbconvert_exporter": "python",
   "pygments_lexer": "ipython3",
   "version": "3.5.4"
  }
 },
 "nbformat": 4,
 "nbformat_minor": 2
}
